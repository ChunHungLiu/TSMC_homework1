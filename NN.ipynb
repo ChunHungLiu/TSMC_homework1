{
 "cells": [
  {
   "cell_type": "code",
   "execution_count": 14,
   "metadata": {
    "collapsed": false,
    "deletable": true,
    "editable": true
   },
   "outputs": [],
   "source": [
    "#import library\n",
    "import tensorflow as tf\n",
    "import numpy as np\n",
    "from mnist import loader\n",
    "import random\n",
    "import pdb \n",
    "import matplotlib.pyplot as plt\n",
    "import time"
   ]
  },
  {
   "cell_type": "markdown",
   "metadata": {
    "deletable": true,
    "editable": true
   },
   "source": [
    "# Build NN model\n",
    "\n",
    "You can picture our softmax regression as looking something like the following, although with a lot more xs. For each output, we compute a weighted sum of the xs, add a bias, and then apply softmax.\n",
    "\n",
    "![](imgs/simple_model.png)\n",
    "\n",
    "We can \"vectorize\" this procedure, turning it into a matrix multiplication and vector addition. This is helpful for computational efficiency. (It's also a useful way to think.)\n",
    "\n",
    "![](imgs/vetector.png)\n",
    "    \n",
    "  ## cross-entropy\n",
    "\n",
    "![](imgs/cross_entropy.png)"
   ]
  },
  {
   "cell_type": "code",
   "execution_count": 78,
   "metadata": {
    "collapsed": true,
    "deletable": true,
    "editable": true
   },
   "outputs": [],
   "source": [
    "def NNmodel():\n",
    "    mnist_dim = 28\n",
    "    hidden_dim = 300\n",
    "    n_class = 10\n",
    "\n",
    "    # create Variables\n",
    "    weights= {  'w1' : tf.Variable(tf.truncated_normal([mnist_dim*mnist_dim, hidden_dim], mean = 0, stddev = 0.01), name='w1'),\n",
    "                'w2' : tf.Variable(tf.truncated_normal([hidden_dim, n_class], mean = 0, stddev = 0.01), name='w2')}\n",
    "\n",
    "    biases = {  'b1' : tf.Variable(tf.truncated_normal([hidden_dim]), name='b1'),\n",
    "                'b2' : tf.Variable(tf.truncated_normal([n_class]), name='b2')}\n",
    "\n",
    "\n",
    "    x = tf.placeholder(tf.float32, shape=[None, mnist_dim*mnist_dim], name='x')\n",
    "    y = tf.placeholder(tf.int32, name='y')    # default shape=None\n",
    "    dropout = tf.placeholder(tf.float32)  #dropout ratio\n",
    "\n",
    "    h1 = tf.matmul(x, weights['w1'])+biases['b1']\n",
    "    h1 = tf.nn.relu(h1)\n",
    "    h1 = tf.nn.dropout(h1, keep_prob = 1-dropout)\n",
    "    pred = tf.matmul(h1, weights['w2'])+biases['b2']\n",
    "    probs = tf.nn.softmax(pred)\n",
    "    \n",
    "    log_probs = tf.log(probs + 1e-8)\n",
    "\n",
    "    one_hot_y = tf.one_hot(y, n_class, on_value=1, off_value=0, axis=-1)\n",
    "    cross_entropy_loss = - tf.mul(tf.cast(one_hot_y, tf.float32),log_probs)\n",
    "    loss = tf.reduce_sum(cross_entropy_loss)\n",
    "\n",
    "    # Evaluate model\n",
    "    correct_pred = tf.equal(tf.argmax(pred, 1), tf.argmax(one_hot_y, 1))\n",
    "    accuracy = tf.reduce_mean(tf.cast(correct_pred, tf.float32))\n",
    "\n",
    "    return x, y, dropout, probs, loss, accuracy\n"
   ]
  },
  {
   "cell_type": "markdown",
   "metadata": {
    "deletable": true,
    "editable": true
   },
   "source": [
    "# Paramaters\n",
    "\n",
    "### one  epoch：所有的訓練樣本完成一次Forword運算以及一次BP運算, 即看過所有資料一遍\n",
    "\n",
    "### batch size：一次Forword運算以及BP運算中所需要的訓練樣本數目，其實深度學習每一次參數的更新所需要損失函數並不是由一個{data：label}獲得的，而是由一組數據加權得到的，這一組數據的數量就是 batch size 。batch size越大，所需的內存就越大。\n",
    "\n",
    "### iterations（迭代）：每一次迭代都是一次權重更新，每一次權重更新需要batch size個數據進行Forward運算, 得到損失函數(loss)，再BP 算法更新參數。\n",
    "\n",
    "### 公式:  訓練样本的数量/batch size = numbers of iterations => one epoch"
   ]
  },
  {
   "cell_type": "code",
   "execution_count": 79,
   "metadata": {
    "collapsed": true,
    "deletable": true,
    "editable": true
   },
   "outputs": [],
   "source": [
    "def paramaters(ims, ims_test):\n",
    "    lr = 0.001\n",
    "    batch_size = 20\n",
    "    n_epoch = 5\n",
    "    iter_per_epoch = int(len(ims)/batch_size)\n",
    "    iter_per_epoch_test = int(len(ims_test)/batch_size)\n",
    "    return lr, batch_size, n_epoch, iter_per_epoch, iter_per_epoch_test"
   ]
  },
  {
   "cell_type": "markdown",
   "metadata": {
    "deletable": true,
    "editable": true
   },
   "source": [
    "# Load data\n",
    "\n",
    "MNIST is a simple computer vision dataset. It consists of images of handwritten digits like these:\n",
    "\n",
    "![](imgs/mnist_data.png)\n",
    "\n",
    "Each image is 28 pixels by 28 pixels. We can interpret this as a big array of numbers:\n",
    "\n",
    "![](imgs/mnist_pixel.png)\n",
    "\n",
    "The result is that mnist.train.images is a tensor (an n-dimensional array) with a shape of [55000, 784]. The first dimension is an index into the list of images and the second dimension is the index for each pixel in each image. Each entry in the tensor is a pixel intensity between 0 and 1, for a particular pixel in a particular image.\n",
    "\n",
    "![](imgs/mnist_train.png)\n",
    "\n",
    "For the purposes of this tutorial, we're going to want our labels as \"one-hot vectors\". A one-hot vector is a vector which is 0 in most dimensions, and 1 in a single dimension. In this case, the nth digit will be represented as a vector which is 1 in the nth dimension. For example, 3 would be [0,0,0,1,0,0,0,0,0,0]. Consequently, mnist.train.labels is a [55000, 10] array of floats.\n",
    "\n",
    "![](imgs/mnist_label.png)"
   ]
  },
  {
   "cell_type": "code",
   "execution_count": 80,
   "metadata": {
    "collapsed": true,
    "deletable": true,
    "editable": true
   },
   "outputs": [],
   "source": [
    "def load_data():   \n",
    "    data_path = 'data'\n",
    "    data_loader = loader.MNIST(data_path)\n",
    "    ims, labels = data_loader.load_training()\n",
    "    ims_test, labels_test = data_loader.load_testing()\n",
    "\n",
    "    #ims= np.float32(ims) + 128\n",
    "    ims = ims/255.0\n",
    "    ims_test = ims_test/255.0\n",
    "\n",
    "    im_mean = np.mean(ims,axis=0)\n",
    "    \n",
    "    return ims, im_mean, labels, ims_test, labels_test"
   ]
  },
  {
   "cell_type": "code",
   "execution_count": 90,
   "metadata": {
    "collapsed": false,
    "deletable": true,
    "editable": true
   },
   "outputs": [],
   "source": [
    "\n",
    "def train():\n",
    "    total_time = 0.0\n",
    "    ims, im_mean, labels, ims_test, labels_test = load_data()\n",
    "    lr, batch_size, n_epoch, iter_per_epoch, iter_per_epoch_test = paramaters(ims, ims_test)\n",
    "    #pdb.set_trace()\n",
    "\n",
    "    loss_train = []\n",
    "    loss_test = []\n",
    "    Acc_train = []\n",
    "    Acc_test = []\n",
    "\n",
    "    x, y, dropout, tf_probs, tf_loss, accuracy = NNmodel()\n",
    "    tf_loss = tf_loss/batch_size\n",
    "\n",
    "    #optimizer = tf.train.AdamOptimizer(learning_rate = lr).minimize(tf_loss)\n",
    "    optimizer = tf.train.GradientDescentOptimizer(learning_rate = lr).minimize(tf_loss)\n",
    "    # create session\n",
    "    sess = tf.InteractiveSession()\n",
    "    sess.run(tf.global_variables_initializer())\n",
    "    saver = tf.train.Saver()\n",
    "    \n",
    "    order_list_train = range(len(ims))\n",
    "    order_list_test = range(len(ims_test))\n",
    "    #pdb.set_trace()\n",
    "    for epoch in xrange(n_epoch):\n",
    "        start = time.time()\n",
    "        random.shuffle(order_list_train)\n",
    "        random.shuffle(order_list_test)\n",
    "        print \"Epoch %d\"%(epoch)\n",
    "        cost_train = 0 \n",
    "        cost_test = 0 \n",
    "        A_train = 0 \n",
    "        A_test = 0 \n",
    "        for idx in xrange(iter_per_epoch):\n",
    "            batch_xs = ims[order_list_train[idx*batch_size:(idx+1)*batch_size]] - im_mean\n",
    "            batch_ys = labels[order_list_train[idx*batch_size:(idx+1)*batch_size]]\n",
    "            P, L, A, _= sess.run([tf_probs, tf_loss,accuracy,optimizer],feed_dict={x:batch_xs, y:batch_ys,dropout:0.8})\n",
    "            cost_train += L\n",
    "            A_train += A\n",
    "        for idx in xrange(iter_per_epoch_test):\n",
    "            batch_xs_test = ims_test[order_list_test[idx*batch_size:(idx+1)*batch_size]] - im_mean\n",
    "            batch_ys_test = labels_test[order_list_test[idx*batch_size:(idx+1)*batch_size]]\n",
    "            P, L, A = sess.run([tf_probs, tf_loss, accuracy],feed_dict={x:batch_xs_test, y:batch_ys_test, dropout:0.0})  \n",
    "            cost_test += L\n",
    "            A_test += A\n",
    "        if (epoch+1)%1==0:\n",
    "            #saver.save(sess, 'models/NN'+str(epoch+1), global_step = epoch+1)\n",
    "            loss_train.append(cost_train/iter_per_epoch)\n",
    "            Acc_train.append(A_train/iter_per_epoch)\n",
    "            loss_test.append(cost_test/iter_per_epoch_test)\n",
    "            Acc_test.append(A_test/iter_per_epoch_test)\n",
    "        print \"Training_loss= %f  Training_Accuracy=%f  \\t Testing_loss= %f  Testing_Accuracy= %f\" \\\n",
    "        %(cost_train/iter_per_epoch,A_train/iter_per_epoch, cost_test/iter_per_epoch_test,A_test/iter_per_epoch_test)\n",
    "        total = (time.time() - start)/60\n",
    "        total_time += total\n",
    "        #print total\n",
    "    print \"Average time is %f\"%(total_time/n_epoch)\n",
    "    plt.figure(1)\n",
    "    plt.title('Loss. Blue-training, red-testing')\n",
    "    plt.xlabel('Epochs')\n",
    "    plt.plot(loss_train, 'b', loss_test, 'r')\n",
    "    plt.figure(2)\n",
    "    plt.title('Accuracy. Blue-training, Red-testing')\n",
    "    plt.plot(Acc_train, 'b', Acc_test, 'r')\n",
    "    plt.title('Accuracy. Blue-training, Red-testing')\n",
    "    plt.show()\n",
    "    #plt.savefig('result.png')\n"
   ]
  },
  {
   "cell_type": "code",
   "execution_count": 91,
   "metadata": {
    "collapsed": false,
    "deletable": true,
    "editable": true
   },
   "outputs": [],
   "source": [
    "def test():\n",
    "    data_path = 'data'\n",
    "    data_loader = loader.MNIST(data_path)\n",
    "    ims, labels = data_loader.load_testing()\n",
    "    ims = ims/255.0\n",
    "    im_mean = np.mean(ims,axis=0)\n",
    "    #pdb.set_trace()\n",
    "    batch_size = 50\n",
    "    n_epoch = 1\n",
    "    iter_per_epoch = len(ims)/batch_size\n",
    "\n",
    "    x, y, dropout, tf_probs, tf_loss, accuracy = NNmodel()\n",
    "    tf_loss = tf_loss/batch_size\n",
    "\n",
    "    #optimizer = tf.train.AdamOptimizer(learning_rate = lr).minimize(tf_loss)\n",
    "\n",
    "    # create session\n",
    "    sess = tf.InteractiveSession()\n",
    "    sess.run(tf.global_variables_initializer())\n",
    "\n",
    "    saver = tf.train.Saver()\n",
    "    saver.restore(sess,'models/NN50-50')\n",
    "    order_list = range(len(ims))\n",
    "    correct = 0\n",
    "    total = 0\n",
    "    for epoch in xrange(n_epoch):\n",
    "        random.shuffle(order_list)\n",
    "        print \"Epoch %d\"%(epoch)\n",
    "\n",
    "        for idx in xrange(iter_per_epoch):\n",
    "            batch_xs = ims[order_list[idx*batch_size:(idx+1)*batch_size]] - im_mean\n",
    "            batch_ys = labels[order_list[idx*batch_size:(idx+1)*batch_size]]\n",
    "            #batch_ys = one_hot(batch_ys,10)\n",
    "            #batch_xs, batch_ys = MNIST.test.next_batch(batch_size)\n",
    "            P, L = sess.run([tf_probs, tf_loss], feed_dict={x:batch_xs, y:batch_ys, dropout:0.0})\n",
    "            #pdb.set_trace()\n",
    "\n",
    "            #if np.argmax(P) == np.argmax(batch_ys[0]):\n",
    "            #    correct += 1\n",
    "            #correct += np.sum(np.argmax(P,axis=1) == np.argmax(batch_ys, axis=1))\n",
    "            correct += np.sum(np.argmax(P, axis=1) == batch_ys)\n",
    "            total += len(P)\n",
    "        print \"accuary= %f (%d/%d)\"%(float(correct)/total, correct, total)\n",
    "\n",
    "\n"
   ]
  },
  {
   "cell_type": "code",
   "execution_count": 92,
   "metadata": {
    "collapsed": false,
    "deletable": true,
    "editable": true
   },
   "outputs": [
    {
     "name": "stdout",
     "output_type": "stream",
     "text": [
      "Epoch 0\n",
      "Training_loss= 2.284811  Training_Accuracy=0.145450  \t Testing_loss= 2.169154  Testing_Accuracy= 0.444200\n",
      "Epoch 1\n",
      "Training_loss= 2.031496  Training_Accuracy=0.302183  \t Testing_loss= 1.715175  Testing_Accuracy= 0.670600\n",
      "Epoch 2\n",
      "Training_loss= 1.621248  Training_Accuracy=0.463233  \t Testing_loss= 1.256501  Testing_Accuracy= 0.743100\n",
      "Epoch 3\n",
      "Training_loss= 1.330924  Training_Accuracy=0.559750  \t Testing_loss= 0.980329  Testing_Accuracy= 0.784800\n",
      "Epoch 4\n",
      "Training_loss= 1.152085  Training_Accuracy=0.619567  \t Testing_loss= 0.812634  Testing_Accuracy= 0.815800\n",
      "Average time is 0.110750\n"
     ]
    },
    {
     "data": {
      "image/png": "[encoded data removed]",
      "text/plain": [
       "<matplotlib.figure.Figure at 0x7fb3769aec50>"
      ]
     },
     "metadata": {},
     "output_type": "display_data"
    },
    {
     "data": {
      "image/png": "[encoded data removed]",
      "text/plain": [
       "<matplotlib.figure.Figure at 0x7fb377567d90>"
      ]
     },
     "metadata": {},
     "output_type": "display_data"
    }
   ],
   "source": [
    "if __name__ == '__main__':\n",
    "    train()\n",
    "    #test()"
   ]
  },
  {
   "cell_type": "markdown",
   "metadata": {
    "collapsed": true,
    "deletable": true,
    "editable": true
   },
   "source": [
    "# Compare different batch size (lr = 0.001, hidden dimension = 300)\n",
    "\n",
    "## batch size = 1\n",
    "\n",
    "\n",
    "![](imgs/batch_size1.png)\n",
    "\n",
    "## batch size = 20\n",
    "\n",
    "\n",
    "![](imgs/batch_size20.png)\n",
    "\n",
    "## batch size = 200\n",
    "\n",
    "\n",
    "![](imgs/batch_size200.png)"
   ]
  },
  {
   "cell_type": "markdown",
   "metadata": {
    "deletable": true,
    "editable": true
   },
   "source": [
    "# Compare different learning rate (batch size = 20, hidden dimension = 300)\n",
    "\n",
    "## learning rate = 0.01\n",
    "\n",
    "![](imgs/lr001.png)\n",
    "\n",
    "## learning rate = 0.001\n",
    "\n",
    "![](imgs/lr0001.png)\n",
    "\n",
    "## learning rate = 0.0001\n",
    "\n",
    "![](imgs/lr00001.png)\n"
   ]
  },
  {
   "cell_type": "markdown",
   "metadata": {
    "deletable": true,
    "editable": true
   },
   "source": [
    "# Compare different hidden dimension (lr = 0.001, batch size = 20)\n",
    "\n",
    "## dimension = \n",
    "\n",
    "![](imgs/hidd50.png)\n",
    "\n",
    "## dimension = \n",
    "\n",
    "![](imgs/hidd150.png)\n",
    "\n",
    "## dimension = \n",
    "\n",
    "![](imgs/hidd300.png)\n"
   ]
  },
  {
   "cell_type": "markdown",
   "metadata": {},
   "source": [
    "# Compare different dropout rate (lr = 0.001batch size = 20, hidden dimension = 300)\n",
    "\n",
    "## ropout rate = 0\n",
    "\n",
    "![](imgs/d0.png)\n",
    "\n",
    "## ropout rate = 0.5\n",
    "\n",
    "![](imgs/d05.png)\n",
    "\n",
    "## ropout rate = 0.8\n",
    "\n",
    "![](imgs/d08.png)\n"
   ]
  }
 ],
 "metadata": {
  "anaconda-cloud": {},
  "kernelspec": {
   "display_name": "Python 2",
   "language": "python",
   "name": "python2"
  },
  "language_info": {
   "codemirror_mode": {
    "name": "ipython",
    "version": 2
   },
   "file_extension": ".py",
   "mimetype": "text/x-python",
   "name": "python",
   "nbconvert_exporter": "python",
   "pygments_lexer": "ipython2",
   "version": "2.7.12"
  }
 },
 "nbformat": 4,
 "nbformat_minor": 0
}
