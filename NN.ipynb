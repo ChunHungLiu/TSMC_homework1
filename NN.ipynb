{
 "cells": [
  {
   "cell_type": "code",
   "execution_count": 11,
   "metadata": {
    "collapsed": false,
    "deletable": true,
    "editable": true
   },
   "outputs": [],
   "source": [
    "#import library\n",
    "import tensorflow as tf\n",
    "import numpy as np\n",
    "from mnist import loader\n",
    "import random\n",
    "import pdb \n",
    "import matplotlib.pyplot as plt"
   ]
  },
  {
   "cell_type": "code",
   "execution_count": 12,
   "metadata": {
    "collapsed": true,
    "deletable": true,
    "editable": true
   },
   "outputs": [],
   "source": [
    "def NNmodel():\n",
    "    mnist_dim = 28\n",
    "    hidden_dim = 50\n",
    "    n_class = 10\n",
    "\n",
    "    # create Variables\n",
    "    weights= {  'w1' : tf.Variable(tf.truncated_normal([mnist_dim*mnist_dim, hidden_dim], mean = 0, stddev = 0.01), name='w1'),\n",
    "                'w2' : tf.Variable(tf.truncated_normal([hidden_dim, n_class], mean = 0, stddev = 0.01), name='w2')}\n",
    "\n",
    "    biases = {  'b1' : tf.Variable(tf.truncated_normal([hidden_dim]), name='b1'),\n",
    "                'b2' : tf.Variable(tf.truncated_normal([n_class]), name='b2')}\n",
    "\n",
    "\n",
    "    x = tf.placeholder(tf.float32, shape=[None, mnist_dim*mnist_dim], name='x')\n",
    "    y = tf.placeholder(tf.int32, name='y')    # default shape=None\n",
    "    dropout = tf.placeholder(tf.float32)  #dropout ratio\n",
    "\n",
    "    h1 = tf.matmul(x, weights['w1'])+biases['b1']\n",
    "    h1 = tf.nn.dropout(h1, keep_prob = 1-dropout)\n",
    "    pred = tf.matmul(h1, weights['w2'])+biases['b2']\n",
    "\n",
    "    probs = tf.nn.softmax(pred)\n",
    "    log_probs = tf.log(probs + 1e-8)\n",
    "\n",
    "    one_hot_y = tf.one_hot(y, n_class, on_value=1, off_value=0, axis=-1)\n",
    "    cross_entropy_loss = - tf.mul(tf.cast(one_hot_y, tf.float32),log_probs)\n",
    "    loss = tf.reduce_sum(cross_entropy_loss)\n",
    "\n",
    "    # Evaluate model\n",
    "    correct_pred = tf.equal(tf.argmax(pred, 1), tf.argmax(one_hot_y, 1))\n",
    "    accuracy = tf.reduce_mean(tf.cast(correct_pred, tf.float32))\n",
    "\n",
    "    return x, y, dropout, probs, loss, accuracy\n"
   ]
  },
  {
   "cell_type": "code",
   "execution_count": 14,
   "metadata": {
    "collapsed": false,
    "deletable": true,
    "editable": true
   },
   "outputs": [
    {
     "name": "stdout",
     "output_type": "stream",
     "text": [
      "Epoch 0\n",
      "Training_loss= 2.292252  Training_Accuracy=0.136950  \t Testing_loss= 2.240781  Testing_Accuracy= 0.240500\n",
      "Epoch 1\n",
      "Training_loss= 2.102249  Training_Accuracy=0.313317  \t Testing_loss= 1.810565  Testing_Accuracy= 0.587800\n",
      "Epoch 2\n",
      "Training_loss= 1.536413  Training_Accuracy=0.545167  \t Testing_loss= 1.167665  Testing_Accuracy= 0.722800\n",
      "Epoch 3\n",
      "Training_loss= 1.103924  Training_Accuracy=0.672933  \t Testing_loss= 0.842597  Testing_Accuracy= 0.795100\n",
      "Epoch 4\n",
      "Training_loss= 0.886003  Training_Accuracy=0.735100  \t Testing_loss= 0.675827  Testing_Accuracy= 0.828300\n"
     ]
    },
    {
     "data": {
      "image/png": "[encoded data removed]",
      "text/plain": [
       "<matplotlib.figure.Figure at 0x7f503def1610>"
      ]
     },
     "metadata": {},
     "output_type": "display_data"
    },
    {
     "data": {
      "image/png": "[encoded data removed]",
      "text/plain": [
       "<matplotlib.figure.Figure at 0x7f503831b710>"
      ]
     },
     "metadata": {},
     "output_type": "display_data"
    }
   ],
   "source": [
    "\n",
    "data_path = 'data'\n",
    "data_loader = loader.MNIST(data_path)\n",
    "ims, labels = data_loader.load_training()\n",
    "ims_test, labels_test = data_loader.load_testing()\n",
    "\n",
    "#ims= np.float32(ims) + 128\n",
    "ims = ims/255.0\n",
    "ims_test = ims_test/255.0\n",
    "\n",
    "im_mean = np.mean(ims,axis=0)\n",
    "im_test_mean = np.mean(ims_test, axis=0)\n",
    "\n",
    "lr = 0.001\n",
    "batch_size = 20\n",
    "n_epoch = 5\n",
    "iter_per_epoch = int(len(ims)/batch_size)\n",
    "iter_per_epoch_test = int(len(ims_test)/batch_size)\n",
    "\n",
    "loss_train = []\n",
    "loss_test = []\n",
    "Acc_train = []\n",
    "Acc_test = []\n",
    "\n",
    "x, y, dropout, tf_probs, tf_loss, accuracy = NNmodel()\n",
    "tf_loss = tf_loss/batch_size\n",
    "\n",
    "#optimizer = tf.train.AdamOptimizer(learning_rate = lr).minimize(tf_loss)\n",
    "optimizer = tf.train.GradientDescentOptimizer(learning_rate = lr).minimize(tf_loss)\n",
    "# create session\n",
    "sess = tf.InteractiveSession()\n",
    "sess.run(tf.global_variables_initializer())\n",
    "saver = tf.train.Saver()\n",
    "order_list_train = range(len(ims))\n",
    "order_list_test = range(len(ims_test))\n",
    "#pdb.set_trace()\n",
    "for epoch in xrange(n_epoch):\n",
    "    random.shuffle(order_list_train)\n",
    "    random.shuffle(order_list_test)\n",
    "    print \"Epoch %d\"%(epoch)\n",
    "    cost_train = 0\n",
    "    cost_test = 0\n",
    "    A_train = 0\n",
    "    A_test = 0\n",
    "    for idx in xrange(iter_per_epoch):\n",
    "        batch_xs = ims[order_list_train[idx*batch_size:(idx+1)*batch_size]] - im_mean\n",
    "        batch_ys = labels[order_list_train[idx*batch_size:(idx+1)*batch_size]]\n",
    "        P, L, A, _= sess.run([tf_probs, tf_loss,accuracy,optimizer],feed_dict={x:batch_xs, y:batch_ys,dropout:0.5})\n",
    "        cost_train += L\n",
    "        A_train += A\n",
    "    for idx in xrange(iter_per_epoch_test):\n",
    "        batch_xs_test = ims_test[order_list_test[idx*batch_size:(idx+1)*batch_size]] - im_mean\n",
    "        batch_ys_test = labels_test[order_list_test[idx*batch_size:(idx+1)*batch_size]]\n",
    "        P, L, A = sess.run([tf_probs, tf_loss, accuracy],feed_dict={x:batch_xs_test, y:batch_ys_test, dropout:0.0})\n",
    "        cost_test += L\n",
    "        A_test += A\n",
    "    if (epoch+1)%1==0:\n",
    "        loss_train.append(cost_train/iter_per_epoch)\n",
    "        Acc_train.append(A_train/iter_per_epoch)\n",
    "        loss_test.append(cost_test/iter_per_epoch_test)\n",
    "        Acc_test.append(A_test/iter_per_epoch_test)\n",
    "        print \"Training_loss= %f  Training_Accuracy=%f  \\t Testing_loss= %f  Testing_Accuracy= %f\" \\\n",
    "        %(cost_train/iter_per_epoch,A_train/iter_per_epoch, cost_test/iter_per_epoch_test,A_test/iter_per_epoch_test)\n",
    "plt.figure(1)\n",
    "\n",
    "plt.title('Loss. Blue-training, red-testing')\n",
    "plt.xlabel('Epochs')\n",
    "plt.plot(loss_train, 'b', loss_test, 'r')\n",
    "plt.figure(2)\n",
    "plt.title('Accuracy. Blue-training, Red-testing')\n",
    "plt.plot(Acc_train, 'b', Acc_test, 'r')\n",
    "plt.title('Accuracy. Blue-training, Red-testing')\n",
    "plt.show()\n",
    "#plt.savefig('result.png')\n",
    "\n"
   ]
  },
  {
   "cell_type": "code",
   "execution_count": null,
   "metadata": {
    "collapsed": true,
    "deletable": true,
    "editable": true
   },
   "outputs": [],
   "source": []
  },
  {
   "cell_type": "code",
   "execution_count": null,
   "metadata": {
    "collapsed": false,
    "deletable": true,
    "editable": true
   },
   "outputs": [],
   "source": []
  },
  {
   "cell_type": "code",
   "execution_count": null,
   "metadata": {
    "collapsed": true,
    "deletable": true,
    "editable": true
   },
   "outputs": [],
   "source": []
  },
  {
   "cell_type": "code",
   "execution_count": null,
   "metadata": {
    "collapsed": true,
    "deletable": true,
    "editable": true
   },
   "outputs": [],
   "source": []
  },
  {
   "cell_type": "markdown",
   "metadata": {
    "collapsed": true,
    "deletable": true,
    "editable": true
   },
   "source": []
  },
  {
   "cell_type": "code",
   "execution_count": null,
   "metadata": {
    "collapsed": false,
    "deletable": true,
    "editable": true
   },
   "outputs": [],
   "source": []
  },
  {
   "cell_type": "code",
   "execution_count": null,
   "metadata": {
    "collapsed": true,
    "deletable": true,
    "editable": true
   },
   "outputs": [],
   "source": []
  },
  {
   "cell_type": "code",
   "execution_count": null,
   "metadata": {
    "collapsed": true,
    "deletable": true,
    "editable": true
   },
   "outputs": [],
   "source": []
  },
  {
   "cell_type": "code",
   "execution_count": null,
   "metadata": {
    "collapsed": true,
    "deletable": true,
    "editable": true
   },
   "outputs": [],
   "source": []
  }
 ],
 "metadata": {
  "anaconda-cloud": {},
  "kernelspec": {
   "display_name": "Python 2",
   "language": "python",
   "name": "python2"
  },
  "language_info": {
   "codemirror_mode": {
    "name": "ipython",
    "version": 2
   },
   "file_extension": ".py",
   "mimetype": "text/x-python",
   "name": "python",
   "nbconvert_exporter": "python",
   "pygments_lexer": "ipython2",
   "version": "2.7.12"
  }
 },
 "nbformat": 4,
 "nbformat_minor": 0
}
