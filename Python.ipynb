{
 "cells": [
  {
   "cell_type": "markdown",
   "metadata": {
    "deletable": true,
    "editable": true
   },
   "source": [
    "# Hello python!"
   ]
  },
  {
   "cell_type": "code",
   "execution_count": 5,
   "metadata": {
    "collapsed": false,
    "deletable": true,
    "editable": true
   },
   "outputs": [
    {
     "name": "stdout",
     "output_type": "stream",
     "text": [
      "<type 'int'>\n",
      "<type 'float'>\n",
      "4.3\n",
      "99.99 5\n"
     ]
    }
   ],
   "source": [
    "x = 3\n",
    "print type(x)\n",
    "x += 2.3 \n",
    "print type(x)\n",
    "x -= 1 \n",
    "print x\n",
    "x,y = 99.99,5 \n",
    "print x,y"
   ]
  },
  {
   "cell_type": "markdown",
   "metadata": {
    "collapsed": true,
    "deletable": true,
    "editable": true
   },
   "source": [
    "# Python introduction : append "
   ]
  },
  {
   "cell_type": "code",
   "execution_count": 11,
   "metadata": {
    "collapsed": false,
    "deletable": true,
    "editable": true
   },
   "outputs": [
    {
     "name": "stdout",
     "output_type": "stream",
     "text": [
      "2 3 2\n",
      "333.333 222 ['Hi', 3] [3, 99, 222, 222]\n"
     ]
    }
   ],
   "source": [
    "my_list = []\n",
    "my_list.append(1) \n",
    "my_list.append(2) \n",
    "my_list2 = [55.55,\"Hi\",3,99,222,222]\n",
    "my_list2[0]=333.333\n",
    "\n",
    "print len(my_list),sum(my_list),my_list2.count(222)\n",
    "print my_list2[0],my_list2[-1],my_list2[1:3],my_list2[2:]"
   ]
  },
  {
   "cell_type": "markdown",
   "metadata": {
    "collapsed": true,
    "deletable": true,
    "editable": true
   },
   "source": [
    "# Python introduction : dictionary"
   ]
  },
  {
   "cell_type": "code",
   "execution_count": 6,
   "metadata": {
    "collapsed": false,
    "deletable": true,
    "editable": true
   },
   "outputs": [
    {
     "name": "stdout",
     "output_type": "stream",
     "text": [
      "56680\n",
      "{'Happy': 9999, 'Smile': 123456, 'Mark': 56680, 'Mars': 0}\n",
      "['Happy', 'Smile', 'Mark', 'Mars']\n",
      "[9999, 123456, 56680, 0]\n",
      "None\n"
     ]
    }
   ],
   "source": [
    "passwd={'Mars':00000,'Mark':56680}\n",
    "passwd['Happy']=9999    \n",
    "passwd['Smile']=123456\n",
    "\n",
    "print passwd['Mark']\n",
    "\n",
    "print passwd\n",
    "print passwd.keys()\n",
    "print passwd.values()\n",
    "print passwd.get('Tony')"
   ]
  },
  {
   "cell_type": "markdown",
   "metadata": {
    "deletable": true,
    "editable": true
   },
   "source": [
    "# Python introduction : for loop"
   ]
  },
  {
   "cell_type": "code",
   "execution_count": 5,
   "metadata": {
    "collapsed": false,
    "deletable": true,
    "editable": true
   },
   "outputs": [
    {
     "name": "stdout",
     "output_type": "stream",
     "text": [
      "1\n",
      "2\n",
      "3\n",
      "4\n",
      "5\n",
      "6\n",
      "7\n",
      "8\n",
      "9\n",
      "10\n",
      "3 state\n",
      "none of above\n"
     ]
    }
   ],
   "source": [
    "my_list=[]\n",
    "for i in range(0,10):  #\"\"\"//for(i=0;i<10;i++)\"\"\"\n",
    "    my_list.append(i+1)\n",
    "\n",
    "for i in my_list: #\"\"\"//for(i=0;i<my_list.length();i++)\"\"\"\n",
    "    print i #\"\"\"//cout<<my_list[i]\"\"\"\n",
    "\n",
    "if my_list[0]==1 and len(my_list)<10:\n",
    "    my_list[0]+=1\n",
    "    print \"1 state\"\n",
    "\n",
    "elif (11 in my_list) or (len(my_list)==1):\n",
    "    print \"2 state\"\n",
    "    print \"range(i,j) is i~j-1\"\n",
    "\n",
    "else:\n",
    "    print \"3 state\"  \n",
    "    print \"none of above\""
   ]
  },
  {
   "cell_type": "markdown",
   "metadata": {
    "collapsed": true,
    "deletable": true,
    "editable": true
   },
   "source": [
    "# Python introduction : function"
   ]
  },
  {
   "cell_type": "code",
   "execution_count": 7,
   "metadata": {
    "collapsed": false,
    "deletable": true,
    "editable": true
   },
   "outputs": [
    {
     "name": "stdout",
     "output_type": "stream",
     "text": [
      "0 30\n"
     ]
    }
   ],
   "source": [
    "def my_function(x,y):\n",
    "    return x-10,y+10\n",
    "\n",
    "if __name__ == '__main__':\n",
    "\n",
    "    x,y = my_function(10,20)\n",
    "    print x,y"
   ]
  },
  {
   "cell_type": "markdown",
   "metadata": {
    "deletable": true,
    "editable": true
   },
   "source": [
    "# Python introduction : numpy"
   ]
  },
  {
   "cell_type": "code",
   "execution_count": 9,
   "metadata": {
    "collapsed": false,
    "deletable": true,
    "editable": true
   },
   "outputs": [
    {
     "name": "stdout",
     "output_type": "stream",
     "text": [
      "建立一個 np array\n",
      "[[1 2 3]\n",
      " [4 5 6]]\n",
      "(2, 3)\n",
      "建立一個 全為 0 的 2*3 矩陣，並指定為 int16格式\n",
      "[[0 0 0]\n",
      " [0 0 0]]\n",
      "2\n",
      "建立一個長度為12、數值從0~11、格式為 int64 的一維陣列\n",
      "[ 0  1  2  3  4  5  6  7  8  9 10 11]\n",
      "12\n",
      "建立一個數值從0~11、格式為int64，但是是 3*4 的矩陣\n",
      "[[ 0  1  2  3]\n",
      " [ 4  5  6  7]\n",
      " [ 8  9 10 11]]\n",
      "建立一個最小值1，最大值50，共分五塊相等間距的矩陣\n",
      "[  1.    13.25  25.5   37.75  50.  ]\n",
      "建立一個隨機在0~1之間分布的 4*2 矩陣\n",
      "[[ 0.90595878  0.25140201]\n",
      " [ 0.89271876  0.82805826]\n",
      " [ 0.42571683  0.04432017]\n",
      " [ 0.20722022  0.8555153 ]]\n"
     ]
    }
   ],
   "source": [
    "# encoding: utf-8\n",
    "# numpy模組 - 基本用法:創建矩陣\n",
    "import numpy as np\n",
    "\n",
    "# 建立一個 np array\n",
    "arr = np.array([[1,2,3],[4,5,6]])    #放入list就會轉換喔!\n",
    "print \"建立一個 np array\"\n",
    "print arr \n",
    "print arr.shape\n",
    "#印出 [[1,2,3],[4,5,6]]的 2*3 矩陣\n",
    "\n",
    "# 建立一個 全為 0 的 2*3 矩陣，並指定為 int16格式\n",
    "zero_arr = np.zeros((2,3), dtype=np.int16)\n",
    "print \"建立一個 全為 0 的 2*3 矩陣，並指定為 int16格式\"\n",
    "print zero_arr\n",
    "print zero_arr.shape[0]\n",
    "#印出 [[0,0,0],[0,0,0]] 的 2*3 矩陣\n",
    "\n",
    "# 建立一個長度為12、數值從0~11、格式為 int64 的一維陣列\n",
    "onedim_arr = np.arange(12, dtype=np.int64)\n",
    "print \"建立一個長度為12、數值從0~11、格式為 int64 的一維陣列\"\n",
    "print onedim_arr\n",
    "print onedim_arr.shape[0]\n",
    "#印出 [0,1,2,3,4,5,6,7,8,9,10,11]\n",
    "\n",
    "# 建立一個數值從0~11、格式為int64，但是是 3*4 的矩陣\n",
    "reshape_arr = np.arange(12, dtype=np.int64).reshape( (3,4) )\n",
    "print \"建立一個數值從0~11、格式為int64，但是是 3*4 的矩陣\"\n",
    "print reshape_arr\n",
    "#印出 [ [0,1,2,3],[4,5,6,7],[8,9,10,11] ] 的 3*4矩陣\n",
    "\n",
    "# 建立一個最小值1，最大值50，共分五塊相等間距的矩陣\n",
    "slice_arr = np.linspace(1,50,5)\n",
    "print \"建立一個最小值1，最大值50，共分五塊相等間距的矩陣\"\n",
    "print slice_arr\n",
    "#印出 [  1.    13.25  25.5   37.75  50.  ] 的 1*5 矩陣\n",
    "#要轉成 5*1 的矩陣就在後面加上 .reshape((5*1)) 就可以喔！\n",
    "\n",
    "# 建立一個隨機在0~1之間分布的 4*2 矩陣\n",
    "random_arr = np.random.random( (4, 2) )\n",
    "print \"建立一個隨機在0~1之間分布的 4*2 矩陣\"\n",
    "print random_arr\n",
    "#印出 [[ 0.92615029  0.12676952], [ 0.33146324  0.51952945],\n",
    "#[ 0.37010443  0.23092601], [ 0.11052635  0.78243148]]\n",
    "#值是隨機的，所以你印出來一定跟我不一樣喔！"
   ]
  },
  {
   "cell_type": "code",
   "execution_count": null,
   "metadata": {
    "collapsed": true,
    "deletable": true,
    "editable": true
   },
   "outputs": [],
   "source": []
  },
  {
   "cell_type": "code",
   "execution_count": null,
   "metadata": {
    "collapsed": true,
    "deletable": true,
    "editable": true
   },
   "outputs": [],
   "source": []
  }
 ],
 "metadata": {
  "anaconda-cloud": {},
  "kernelspec": {
   "display_name": "Python 2",
   "language": "python",
   "name": "python2"
  },
  "language_info": {
   "codemirror_mode": {
    "name": "ipython",
    "version": 2
   },
   "file_extension": ".py",
   "mimetype": "text/x-python",
   "name": "python",
   "nbconvert_exporter": "python",
   "pygments_lexer": "ipython2",
   "version": "2.7.12"
  }
 },
 "nbformat": 4,
 "nbformat_minor": 2
}
