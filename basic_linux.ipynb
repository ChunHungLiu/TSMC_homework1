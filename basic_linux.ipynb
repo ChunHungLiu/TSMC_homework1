{
 "cells": [
  {
   "cell_type": "markdown",
   "metadata": {
    "deletable": true,
    "editable": true
   },
   "source": [
    "# 基本Ubuntu指令"
   ]
  },
  {
   "cell_type": "markdown",
   "metadata": {
    "collapsed": true,
    "deletable": true,
    "editable": true
   },
   "source": [
    "## cd:離開現在的工作目錄，切換到別的目錄可用\n",
    "## ls:所在的目錄中有哪些檔案或子目錄\n",
    "## mkdir:建立新的目錄\n",
    "## cp:複製檔案\n",
    "## mv:搬移檔案\n",
    "## rm:刪除目錄或檔案\n",
    "## vim:編輯文件檔\n",
    "## htop:觀察電腦使用情況"
   ]
  },
  {
   "cell_type": "code",
   "execution_count": null,
   "metadata": {
    "collapsed": true
   },
   "outputs": [],
   "source": []
  }
 ],
 "metadata": {
  "anaconda-cloud": {},
  "kernelspec": {
   "display_name": "Python 2",
   "language": "python",
   "name": "python2"
  },
  "language_info": {
   "codemirror_mode": {
    "name": "ipython",
    "version": 2
   },
   "file_extension": ".py",
   "mimetype": "text/x-python",
   "name": "python",
   "nbconvert_exporter": "python",
   "pygments_lexer": "ipython2",
   "version": "2.7.12"
  }
 },
 "nbformat": 4,
 "nbformat_minor": 2
}
